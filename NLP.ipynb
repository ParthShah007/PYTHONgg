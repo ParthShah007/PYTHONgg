{
 "cells": [
  {
   "cell_type": "code",
   "execution_count": 82,
   "id": "60113a7c",
   "metadata": {},
   "outputs": [],
   "source": [
    "\n",
    "import numpy as np\n",
    "import pandas as pd\n",
    "import matplotlib.pyplot as plt\n",
    "import seaborn as sns"
   ]
  },
  {
   "cell_type": "code",
   "execution_count": 83,
   "id": "f1d88ecb",
   "metadata": {},
   "outputs": [],
   "source": [
    "df = pd.read_csv('train.txt', sep = ';', header=None, names=['text', 'emotion'])"
   ]
  },
  {
   "cell_type": "code",
   "execution_count": 84,
   "id": "bf02f457",
   "metadata": {},
   "outputs": [
    {
     "data": {
      "text/html": [
       "<div>\n",
       "<style scoped>\n",
       "    .dataframe tbody tr th:only-of-type {\n",
       "        vertical-align: middle;\n",
       "    }\n",
       "\n",
       "    .dataframe tbody tr th {\n",
       "        vertical-align: top;\n",
       "    }\n",
       "\n",
       "    .dataframe thead th {\n",
       "        text-align: right;\n",
       "    }\n",
       "</style>\n",
       "<table border=\"1\" class=\"dataframe\">\n",
       "  <thead>\n",
       "    <tr style=\"text-align: right;\">\n",
       "      <th></th>\n",
       "      <th>text</th>\n",
       "      <th>emotion</th>\n",
       "    </tr>\n",
       "  </thead>\n",
       "  <tbody>\n",
       "    <tr>\n",
       "      <th>0</th>\n",
       "      <td>i didnt feel humiliated</td>\n",
       "      <td>sadness</td>\n",
       "    </tr>\n",
       "    <tr>\n",
       "      <th>1</th>\n",
       "      <td>i can go from feeling so hopeless to so damned...</td>\n",
       "      <td>sadness</td>\n",
       "    </tr>\n",
       "    <tr>\n",
       "      <th>2</th>\n",
       "      <td>im grabbing a minute to post i feel greedy wrong</td>\n",
       "      <td>anger</td>\n",
       "    </tr>\n",
       "    <tr>\n",
       "      <th>3</th>\n",
       "      <td>i am ever feeling nostalgic about the fireplac...</td>\n",
       "      <td>love</td>\n",
       "    </tr>\n",
       "    <tr>\n",
       "      <th>4</th>\n",
       "      <td>i am feeling grouchy</td>\n",
       "      <td>anger</td>\n",
       "    </tr>\n",
       "  </tbody>\n",
       "</table>\n",
       "</div>"
      ],
      "text/plain": [
       "                                                text  emotion\n",
       "0                            i didnt feel humiliated  sadness\n",
       "1  i can go from feeling so hopeless to so damned...  sadness\n",
       "2   im grabbing a minute to post i feel greedy wrong    anger\n",
       "3  i am ever feeling nostalgic about the fireplac...     love\n",
       "4                               i am feeling grouchy    anger"
      ]
     },
     "execution_count": 84,
     "metadata": {},
     "output_type": "execute_result"
    }
   ],
   "source": [
    "df.head()"
   ]
  },
  {
   "cell_type": "code",
   "execution_count": 85,
   "id": "651a97eb",
   "metadata": {},
   "outputs": [
    {
     "data": {
      "text/plain": [
       "text       0\n",
       "emotion    0\n",
       "dtype: int64"
      ]
     },
     "execution_count": 85,
     "metadata": {},
     "output_type": "execute_result"
    }
   ],
   "source": [
    "df.isnull().sum()"
   ]
  },
  {
   "cell_type": "code",
   "execution_count": 86,
   "id": "a6e2c3d4",
   "metadata": {},
   "outputs": [
    {
     "data": {
      "text/html": [
       "<div>\n",
       "<style scoped>\n",
       "    .dataframe tbody tr th:only-of-type {\n",
       "        vertical-align: middle;\n",
       "    }\n",
       "\n",
       "    .dataframe tbody tr th {\n",
       "        vertical-align: top;\n",
       "    }\n",
       "\n",
       "    .dataframe thead th {\n",
       "        text-align: right;\n",
       "    }\n",
       "</style>\n",
       "<table border=\"1\" class=\"dataframe\">\n",
       "  <thead>\n",
       "    <tr style=\"text-align: right;\">\n",
       "      <th></th>\n",
       "      <th>text</th>\n",
       "      <th>emotion</th>\n",
       "    </tr>\n",
       "  </thead>\n",
       "  <tbody>\n",
       "    <tr>\n",
       "      <th>0</th>\n",
       "      <td>i didnt feel humiliated</td>\n",
       "      <td>0</td>\n",
       "    </tr>\n",
       "    <tr>\n",
       "      <th>1</th>\n",
       "      <td>i can go from feeling so hopeless to so damned...</td>\n",
       "      <td>0</td>\n",
       "    </tr>\n",
       "    <tr>\n",
       "      <th>2</th>\n",
       "      <td>im grabbing a minute to post i feel greedy wrong</td>\n",
       "      <td>1</td>\n",
       "    </tr>\n",
       "    <tr>\n",
       "      <th>3</th>\n",
       "      <td>i am ever feeling nostalgic about the fireplac...</td>\n",
       "      <td>2</td>\n",
       "    </tr>\n",
       "    <tr>\n",
       "      <th>4</th>\n",
       "      <td>i am feeling grouchy</td>\n",
       "      <td>1</td>\n",
       "    </tr>\n",
       "  </tbody>\n",
       "</table>\n",
       "</div>"
      ],
      "text/plain": [
       "                                                text  emotion\n",
       "0                            i didnt feel humiliated        0\n",
       "1  i can go from feeling so hopeless to so damned...        0\n",
       "2   im grabbing a minute to post i feel greedy wrong        1\n",
       "3  i am ever feeling nostalgic about the fireplac...        2\n",
       "4                               i am feeling grouchy        1"
      ]
     },
     "execution_count": 86,
     "metadata": {},
     "output_type": "execute_result"
    }
   ],
   "source": [
    "unique_emotions = df['emotion'].unique()\n",
    "emotion_num = {}\n",
    "c = 0\n",
    "for emo in unique_emotions:\n",
    "    emotion_num[emo] = c\n",
    "    c += 1\n",
    "df['emotion'] = df['emotion'].map(emotion_num)\n",
    "df.head()"
   ]
  },
  {
   "cell_type": "code",
   "execution_count": 87,
   "id": "82d9479b",
   "metadata": {},
   "outputs": [],
   "source": [
    "# string lowercasing\n",
    "df['text'] = df['text'].apply(lambda x: x.lower())"
   ]
  },
  {
   "cell_type": "code",
   "execution_count": 88,
   "id": "e3f4386f",
   "metadata": {},
   "outputs": [],
   "source": [
    "import string\n",
    "# remove punctuation\n",
    "def remove_punctuation(text):\n",
    "    text = text.translate(str.maketrans(\"\", \"\", string.punctuation))\n",
    "    return text\n",
    "\n",
    "df['text'] = df['text'].apply(remove_punctuation)"
   ]
  },
  {
   "cell_type": "code",
   "execution_count": 89,
   "id": "83f6111a",
   "metadata": {},
   "outputs": [],
   "source": [
    "# remove numbers\n",
    "# both function work the same\n",
    "\"\"\"def remove_numbers(text):\n",
    "    text = text.translate(str.maketrans(\"\", \"\", string.digits))\n",
    "    return text\"\"\"\n",
    "def remove_numbers(text):\n",
    "    new = \"\"\n",
    "    for char in text:\n",
    "        if not char.isdigit():\n",
    "            new += char\n",
    "    return new\n",
    "    \n",
    "df['text'] = df['text'].apply(remove_numbers)"
   ]
  },
  {
   "cell_type": "code",
   "execution_count": 90,
   "id": "7bc9bdae",
   "metadata": {},
   "outputs": [],
   "source": [
    "import re\n",
    "\n",
    "def remove_urls(text):\n",
    "    # This regex matches http://, https://, or www. links\n",
    "    url_pattern = r'http\\S+|www\\S+'\n",
    "    return re.sub(url_pattern, '', text)\n",
    "df['text'] = df['text'].apply(remove_urls)"
   ]
  },
  {
   "cell_type": "code",
   "execution_count": 91,
   "id": "2d70794a",
   "metadata": {},
   "outputs": [],
   "source": [
    "def remove_urls(text):\n",
    "    new = \"\"\n",
    "    for i in text:\n",
    "        if i.isascii():\n",
    "            new += i\n",
    "    return new\n",
    "df['text'] = df['text'].apply(remove_urls)"
   ]
  },
  {
   "cell_type": "code",
   "execution_count": 92,
   "id": "fa60830e",
   "metadata": {},
   "outputs": [],
   "source": [
    "# NLTK(Natural language tool kit) is used to remove stopwords ( like is was, this , there)\n",
    "import nltk "
   ]
  },
  {
   "cell_type": "code",
   "execution_count": 93,
   "id": "ed4dc6c0",
   "metadata": {},
   "outputs": [],
   "source": [
    "from nltk.corpus import stopwords\n",
    "from nltk.tokenize import word_tokenize"
   ]
  },
  {
   "cell_type": "code",
   "execution_count": 94,
   "id": "996f0bd2",
   "metadata": {},
   "outputs": [
    {
     "name": "stderr",
     "output_type": "stream",
     "text": [
      "[nltk_data] Downloading package punkt to\n",
      "[nltk_data]     C:\\Users\\Admin\\AppData\\Roaming\\nltk_data...\n",
      "[nltk_data]   Package punkt is already up-to-date!\n",
      "[nltk_data] Downloading package stopwords to\n",
      "[nltk_data]     C:\\Users\\Admin\\AppData\\Roaming\\nltk_data...\n",
      "[nltk_data]   Package stopwords is already up-to-date!\n"
     ]
    },
    {
     "data": {
      "text/plain": [
       "True"
      ]
     },
     "execution_count": 94,
     "metadata": {},
     "output_type": "execute_result"
    }
   ],
   "source": [
    "nltk.download('punkt')\n",
    "nltk.download('stopwords')\n",
    "nltk.download('punkt', quiet=True)\n",
    "nltk.download('stopwords', quiet=True)"
   ]
  },
  {
   "cell_type": "code",
   "execution_count": 95,
   "id": "b838f725",
   "metadata": {},
   "outputs": [
    {
     "name": "stdout",
     "output_type": "stream",
     "text": [
      "{\"needn't\", 't', \"we've\", \"haven't\", \"i'd\", 'ours', 'when', \"shan't\", 'or', 'then', 'my', 'his', 'so', 'very', 'where', 'here', 'only', 'theirs', \"they're\", \"couldn't\", 'needn', 'we', 'over', 'won', 'aren', \"wasn't\", 'do', \"weren't\", 'its', 'and', 'above', 'can', \"i'm\", \"it'll\", 'against', 'couldn', 'she', 'nor', 'll', 'are', 'such', 'they', \"we'll\", 'itself', 'shouldn', 'is', 'that', 'with', \"won't\", 'again', \"they'll\", \"you'd\", 'no', 'weren', 'while', 'wasn', 'as', \"doesn't\", \"don't\", 'y', 'each', 'a', 'doing', 'being', 'don', 'what', 'yours', 'hasn', 'between', \"he'd\", 'once', 'themselves', \"we'd\", 'them', 'before', 'mustn', 'wouldn', 'under', 'he', 'into', 'isn', 'other', \"she'll\", 'didn', 'your', 'was', 'haven', 'mightn', 'if', \"we're\", 'down', \"it's\", \"hadn't\", 'some', 'too', 'having', 'how', 'an', 'more', 'you', 'about', 'hers', 'be', 'during', 'him', 'own', 'out', 'because', 'yourself', 'just', 'in', 'after', 'up', \"shouldn't\", 'few', 'at', 'most', \"it'd\", 'same', 'been', 'ourselves', 'there', \"aren't\", 'why', 'myself', \"he'll\", 'those', 'any', 'am', 's', 'me', 'which', \"should've\", 'both', \"didn't\", 'were', 'further', 'had', \"you've\", 'himself', 'not', 'ma', 'than', 'did', 'm', \"mightn't\", 'but', 'will', 'hadn', \"mustn't\", 'our', 'yourselves', 'all', 'off', 'on', \"isn't\", 'to', 'through', 'have', \"they'd\", 'by', 'this', 'herself', 'd', 'whom', 'doesn', 'should', 'these', 'below', 'has', 'of', \"hasn't\", 'until', 'now', \"i'll\", 'it', 'for', \"he's\", 'does', 'the', \"wouldn't\", \"she'd\", 're', 'shan', \"i've\", \"that'll\", \"they've\", 've', 'their', 'who', 'o', \"you'll\", 'her', 'i', \"you're\", \"she's\", 'from', 'ain'}\n",
      "198\n"
     ]
    }
   ],
   "source": [
    "stop_words = set(stopwords.words('english')) # list of stopwords in English\n",
    "print(stop_words)\n",
    "print(len(stop_words))"
   ]
  },
  {
   "cell_type": "code",
   "execution_count": 96,
   "id": "79e8469f",
   "metadata": {},
   "outputs": [
    {
     "data": {
      "text/plain": [
       "'i can go from feeling so hopeless to so damned hopeful just from being around someone who cares and is awake'"
      ]
     },
     "execution_count": 96,
     "metadata": {},
     "output_type": "execute_result"
    }
   ],
   "source": [
    "df.loc[1]['text']"
   ]
  },
  {
   "cell_type": "code",
   "execution_count": 97,
   "id": "3c06293a",
   "metadata": {},
   "outputs": [],
   "source": [
    "\"\"\"def remove_wrds(text):\n",
    "    word = word_tokenize(text)\n",
    "    new = []\n",
    "    for i in word:\n",
    "        if i not in stop_words:\n",
    "            new.append(i)\n",
    "    return \" \".join(new)\"\"\"\n",
    "def remove_wrds(text):\n",
    "    words = text.split()\n",
    "    new = \"\"\n",
    "    for i in words:\n",
    "        if i not in stop_words:\n",
    "            new += i + \" \"\n",
    "    return new\n",
    "\n",
    "df['text'] = df['text'].apply(remove_wrds)\n"
   ]
  },
  {
   "cell_type": "code",
   "execution_count": 98,
   "id": "2b7cf2b2",
   "metadata": {},
   "outputs": [
    {
     "data": {
      "text/plain": [
       "'go feeling hopeless damned hopeful around someone cares awake '"
      ]
     },
     "execution_count": 98,
     "metadata": {},
     "output_type": "execute_result"
    }
   ],
   "source": [
    "df.loc[1]['text']"
   ]
  },
  {
   "cell_type": "code",
   "execution_count": null,
   "id": "eeedd680",
   "metadata": {},
   "outputs": [],
   "source": []
  }
 ],
 "metadata": {
  "kernelspec": {
   "display_name": "base",
   "language": "python",
   "name": "python3"
  },
  "language_info": {
   "codemirror_mode": {
    "name": "ipython",
    "version": 3
   },
   "file_extension": ".py",
   "mimetype": "text/x-python",
   "name": "python",
   "nbconvert_exporter": "python",
   "pygments_lexer": "ipython3",
   "version": "3.13.5"
  }
 },
 "nbformat": 4,
 "nbformat_minor": 5
}
