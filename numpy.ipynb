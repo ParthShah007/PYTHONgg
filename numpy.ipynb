{
 "cells": [
  {
   "cell_type": "markdown",
   "id": "952e9a90",
   "metadata": {},
   "source": [
    "NUMPY"
   ]
  },
  {
   "cell_type": "code",
   "execution_count": 1,
   "id": "d9d4e064",
   "metadata": {},
   "outputs": [
    {
     "name": "stdout",
     "output_type": "stream",
     "text": [
      "[1 2 3 4]\n"
     ]
    }
   ],
   "source": [
    "import numpy as np\n",
    "intarr = np.array([1,2,3,4], int)\n",
    "print(intarr) # syntax"
   ]
  },
  {
   "cell_type": "code",
   "execution_count": null,
   "id": "315808ca",
   "metadata": {},
   "outputs": [
    {
     "name": "stdout",
     "output_type": "stream",
     "text": [
      "[[1.+0.j 2.+0.j]\n",
      " [3.+0.j 4.+0.j]]\n"
     ]
    }
   ],
   "source": [
    "c = np.array([[1,2], [3,4]],complex)\n",
    "print(c) # Complex array"
   ]
  },
  {
   "cell_type": "code",
   "execution_count": null,
   "id": "0bd5bfea",
   "metadata": {},
   "outputs": [
    {
     "name": "stdout",
     "output_type": "stream",
     "text": [
      "[[[1 2]\n",
      "  [3 4]]\n",
      "\n",
      " [[4 5]\n",
      "  [6 7]]]\n"
     ]
    }
   ],
   "source": [
    "c = np.array([[[1,2], [3,4]], [[4,5], [6,7]]])\n",
    "print(c) #3D array"
   ]
  },
  {
   "cell_type": "code",
   "execution_count": null,
   "id": "361774f8",
   "metadata": {},
   "outputs": [
    {
     "name": "stdout",
     "output_type": "stream",
     "text": [
      "[[0. 0.]\n",
      " [0. 0.]]\n",
      "\n",
      "[[5 5 5]\n",
      " [5 5 5]]\n"
     ]
    }
   ],
   "source": [
    "x = np.empty((2,2)) \n",
    "y = np.full((2,3), 5)\n",
    "print(x)\n",
    "print()\n",
    "print(y)"
   ]
  },
  {
   "cell_type": "code",
   "execution_count": 24,
   "id": "b238d669",
   "metadata": {},
   "outputs": [
    {
     "name": "stdout",
     "output_type": "stream",
     "text": [
      "[[0.11124293 0.40761827 0.13269218]\n",
      " [0.2794805  0.48393478 0.39155154]\n",
      " [0.98834653 0.54188792 0.29995923]\n",
      " [0.70955519 0.73788551 0.37542194]]\n",
      "[0 1 2 3 4]\n",
      "[ 5 10 15]\n",
      "[0.  0.5 1.  1.5 2. ]\n"
     ]
    }
   ],
   "source": [
    "a = np.random.random((4,3))\n",
    "print(a)\n",
    "a = np.arange(5)\n",
    "print(a)\n",
    "a = np.arange(5,20,5)\n",
    "print(a)\n",
    "a = np.linspace(0,2,5)\n",
    "print(a)\n"
   ]
  },
  {
   "cell_type": "code",
   "execution_count": null,
   "id": "5396db01",
   "metadata": {},
   "outputs": [
    {
     "name": "stdout",
     "output_type": "stream",
     "text": [
      "[[1. 0. 0.]\n",
      " [0. 1. 0.]\n",
      " [0. 0. 1.]]\n",
      "[[1. 0. 0.]\n",
      " [0. 1. 0.]\n",
      " [0. 0. 1.]]\n"
     ]
    }
   ],
   "source": [
    "x = np.eye(3) #Some variations from identity\n",
    "y = np.identity(3)\n",
    "print(x)\n",
    "print(y)"
   ]
  },
  {
   "cell_type": "code",
   "execution_count": 26,
   "id": "2029382c",
   "metadata": {},
   "outputs": [
    {
     "name": "stdout",
     "output_type": "stream",
     "text": [
      "[[ 21.03677462  22.73243567   3.5280002  -18.92006238]\n",
      " [ 22.73243567   3.5280002  -18.92006238  -6.98538745]]\n"
     ]
    }
   ],
   "source": [
    "a = np.array([[1,2,3,4], [2,3,4,6]])\n",
    "t = 25 * np.sin(a)\n",
    "print(t)"
   ]
  },
  {
   "cell_type": "code",
   "execution_count": null,
   "id": "8a80bc69",
   "metadata": {},
   "outputs": [
    {
     "name": "stdout",
     "output_type": "stream",
     "text": [
      "21\n",
      "1\n"
     ]
    }
   ],
   "source": [
    "a = np.array([[1,2,3], [4,5,6]])\n",
    "print(a.sum())\n",
    "print(a.min())\n",
    "print()"
   ]
  },
  {
   "cell_type": "code",
   "execution_count": 2,
   "id": "623fe49e",
   "metadata": {},
   "outputs": [
    {
     "name": "stdout",
     "output_type": "stream",
     "text": [
      "[[3 6 7]\n",
      " [1 2 5]]\n",
      "[[1 5 2]\n",
      " [3 7 6]]\n"
     ]
    }
   ],
   "source": [
    "a = np.array([[3,7,6], [1,5,2]])\n",
    "b = np.array([[3,7,6], [1,5,2]])\n",
    "a.sort()\n",
    "b.sort(axis = 0)\n",
    "print(a)\n",
    "print(b)"
   ]
  },
  {
   "cell_type": "code",
   "execution_count": 7,
   "id": "fde8c9d9",
   "metadata": {},
   "outputs": [
    {
     "name": "stdout",
     "output_type": "stream",
     "text": [
      "[[ 1  2  3  4  5]\n",
      " [ 6  7  8  9 10]\n",
      " [11 12 13 14 15]\n",
      " [16 17 18 19 20]\n",
      " [21 22 23 24 25]\n",
      " [26 27 28 29 30]]\n",
      "1\n"
     ]
    }
   ],
   "source": [
    "\"\"\"a = np.array()\n",
    "arange()\n",
    ".zeros((3,4))\n",
    ".ones()\n",
    "linspace\n",
    "\"\"\"\n",
    "import numpy as np\n",
    "arr = np.arange(1,31).reshape(6,5)\n",
    "print(arr)\n",
    "print(arr[0,0])"
   ]
  }
 ],
 "metadata": {
  "kernelspec": {
   "display_name": "base",
   "language": "python",
   "name": "python3"
  },
  "language_info": {
   "codemirror_mode": {
    "name": "ipython",
    "version": 3
   },
   "file_extension": ".py",
   "mimetype": "text/x-python",
   "name": "python",
   "nbconvert_exporter": "python",
   "pygments_lexer": "ipython3",
   "version": "3.13.5"
  }
 },
 "nbformat": 4,
 "nbformat_minor": 5
}
