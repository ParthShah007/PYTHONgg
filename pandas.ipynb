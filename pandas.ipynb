{
 "cells": [
  {
   "cell_type": "code",
   "execution_count": 1,
   "id": "46a8a59b",
   "metadata": {},
   "outputs": [
    {
     "name": "stdout",
     "output_type": "stream",
     "text": [
      "   Marks Grade\n",
      "0     90     A\n",
      "1     50     B\n",
      "2     30     C\n"
     ]
    }
   ],
   "source": [
    "import pandas as pd\n",
    "ll = pd.DataFrame({\n",
    "    'Marks' : [90,50, 30],\n",
    "    'Grade' : ['A', 'B', 'C']\n",
    "})\n",
    "print(ll)\n",
    "\n"
   ]
  },
  {
   "cell_type": "markdown",
   "id": "788ca423",
   "metadata": {},
   "source": [
    "# Pandas"
   ]
  },
  {
   "cell_type": "code",
   "execution_count": 3,
   "id": "e3eb314a",
   "metadata": {},
   "outputs": [
    {
     "name": "stdout",
     "output_type": "stream",
     "text": [
      "       Marks Grade\n",
      "Parth     90     A\n",
      "Sage      50     B\n",
      "Raze      30     C\n"
     ]
    }
   ],
   "source": [
    "import pandas as pd\n",
    "ll = pd.DataFrame({\n",
    "    'Marks' : [90,50, 30],\n",
    "    'Grade' : ['A', 'B', 'C']},\n",
    "    index = ['Parth', 'Sage', 'Raze']\n",
    ")\n",
    "print(ll)"
   ]
  },
  {
   "cell_type": "code",
   "execution_count": 5,
   "id": "1e04a27d",
   "metadata": {},
   "outputs": [
    {
     "data": {
      "text/plain": [
       "Flour     4 cups\n",
       "Milk       1 cup\n",
       "Eggs     2 large\n",
       "Spam       1 can\n",
       "Name: Dinner, dtype: object"
      ]
     },
     "execution_count": 5,
     "metadata": {},
     "output_type": "execute_result"
    }
   ],
   "source": [
    "import pandas as pd\n",
    "ingredients = pd.Series(['4 cups','1 cup','2 large','1 can'],index = ['Flour','Milk','Eggs','Spam'],name = \"Dinner\")\n",
    "\n",
    "# Check your answer\n",
    "ingredients"
   ]
  }
 ],
 "metadata": {
  "kernelspec": {
   "display_name": "Python 3",
   "language": "python",
   "name": "python3"
  },
  "language_info": {
   "codemirror_mode": {
    "name": "ipython",
    "version": 3
   },
   "file_extension": ".py",
   "mimetype": "text/x-python",
   "name": "python",
   "nbconvert_exporter": "python",
   "pygments_lexer": "ipython3",
   "version": "3.12.4"
  }
 },
 "nbformat": 4,
 "nbformat_minor": 5
}
